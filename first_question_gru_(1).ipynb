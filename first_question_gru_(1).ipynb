{
  "cells": [
    {
      "cell_type": "code",
      "execution_count": 8,
      "metadata": {
        "id": "vk59QJU0Msfe"
      },
      "outputs": [],
      "source": []
    },
    {
      "cell_type": "code",
      "execution_count": 9,
      "metadata": {
        "id": "d6io5HeDMsfg"
      },
      "outputs": [],
      "source": [
        "# Import necessary libraries\n",
        "import tensorflow as tf\n",
        "import numpy as np\n",
        "import matplotlib.pyplot as plt\n",
        "import pandas as pd \n",
        "import glob\n",
        "import os\n",
        "from sklearn.utils import shuffle"
      ]
    },
    {
      "cell_type": "code",
      "source": [
        "from google.colab import drive\n",
        "drive.mount('/content/drive')"
      ],
      "metadata": {
        "colab": {
          "base_uri": "https://localhost:8080/"
        },
        "id": "ZAKVy14ZM11s",
        "outputId": "d2910c9b-b454-4ff3-e6cd-93c579a75cab"
      },
      "execution_count": 10,
      "outputs": [
        {
          "output_type": "stream",
          "name": "stdout",
          "text": [
            "Drive already mounted at /content/drive; to attempt to forcibly remount, call drive.mount(\"/content/drive\", force_remount=True).\n"
          ]
        }
      ]
    },
    {
      "cell_type": "code",
      "execution_count": 11,
      "metadata": {
        "colab": {
          "base_uri": "https://localhost:8080/"
        },
        "id": "ZXUIMUmFMsfi",
        "outputId": "8eecdcc3-ffff-4dc7-97c3-b6d455ed2290"
      },
      "outputs": [
        {
          "output_type": "stream",
          "name": "stdout",
          "text": [
            "__MACOSX  sub01  sub02\tsub03  sub05\n",
            "1204\n"
          ]
        }
      ],
      "source": [
        "data_dir = '/content/drive/MyDrive/training-validation'\n",
        "\n",
        "!ls \"$data_dir\"\n",
        "!find \"$data_dir\" -name '*.csv' -type f| wc -l\n",
        "\n",
        "\n",
        "csv_files =  glob.glob(data_dir + \"/**/*.csv\")\n",
        "combined_csv = []\n",
        "train_y = []\n",
        "for f in csv_files:\n",
        "    df = pd.read_csv(f, header=None)\n",
        "    \n",
        "    df = df[df != '#']\n",
        "    df = df[df != '--1']\n",
        "    if len(df)!=31 or pd.isnull(df.iloc[0, 4]):\n",
        "        continue\n",
        "    combined_csv.append(df.iloc[:, 0:3])\n",
        "    train_y.append(df.iloc[0, 4])\n",
        "\n",
        "train_x = pd.concat([df for df in combined_csv], ignore_index=True).astype(np.float32)\n",
        "train_y = np.array(train_y)"
      ]
    },
    {
      "cell_type": "code",
      "execution_count": 12,
      "metadata": {
        "id": "hWs1ZDIdMsfj"
      },
      "outputs": [],
      "source": [
        "from sklearn.preprocessing import MinMaxScaler\n",
        "scaler = MinMaxScaler()\n",
        "train_x = scaler.fit_transform(train_x)"
      ]
    },
    {
      "cell_type": "code",
      "source": [
        "train_x.shape"
      ],
      "metadata": {
        "colab": {
          "base_uri": "https://localhost:8080/"
        },
        "id": "F0wwm6NcQvm9",
        "outputId": "03bb375f-ebfe-4252-ee52-7392dfc4a6e8"
      },
      "execution_count": 13,
      "outputs": [
        {
          "output_type": "execute_result",
          "data": {
            "text/plain": [
              "(17484, 3)"
            ]
          },
          "metadata": {},
          "execution_count": 13
        }
      ]
    },
    {
      "cell_type": "code",
      "execution_count": 14,
      "metadata": {
        "id": "HfaEPdGTMsfj"
      },
      "outputs": [],
      "source": [
        "from keras.utils import to_categorical\n",
        "\n",
        "train_x = train_x.reshape(-1, 31, 3)\n",
        "\n",
        "# Convert output to one-hot encoding\n",
        "train_y = to_categorical(train_y, num_classes=3)"
      ]
    },
    {
      "cell_type": "code",
      "execution_count": 15,
      "metadata": {
        "id": "iTaN6aqBMsfk"
      },
      "outputs": [],
      "source": [
        "train_x = train_x[:int(len(train_x)/100*80)]\n",
        "train_y = train_y[:int(len(train_y)/100*80)]\n",
        "\n",
        "test_x = train_x[int(len(train_x)/100*80):]\n",
        "test_y = train_y[int(len(train_y)/100*80):]"
      ]
    },
    {
      "cell_type": "code",
      "execution_count": 16,
      "metadata": {
        "colab": {
          "base_uri": "https://localhost:8080/"
        },
        "id": "qFNL2-qxMsfk",
        "outputId": "04fb092d-2967-4a40-f57f-d816d71ec00a"
      },
      "outputs": [
        {
          "output_type": "execute_result",
          "data": {
            "text/plain": [
              "(451, 31, 3)"
            ]
          },
          "metadata": {},
          "execution_count": 16
        }
      ],
      "source": [
        "train_x.shape\n",
        "# print(train_x[0])"
      ]
    },
    {
      "cell_type": "code",
      "execution_count": 17,
      "metadata": {
        "colab": {
          "base_uri": "https://localhost:8080/"
        },
        "id": "cnaxdSJiMsfk",
        "outputId": "40742aa3-a140-4301-81d9-6a39c0253172"
      },
      "outputs": [
        {
          "output_type": "execute_result",
          "data": {
            "text/plain": [
              "(451, 3)"
            ]
          },
          "metadata": {},
          "execution_count": 17
        }
      ],
      "source": [
        "train_y.shape"
      ]
    },
    {
      "cell_type": "code",
      "execution_count": 18,
      "metadata": {
        "colab": {
          "base_uri": "https://localhost:8080/"
        },
        "id": "1aR4C34pMsfl",
        "outputId": "520fa959-8ef8-4416-d689-0fab91dcd05c"
      },
      "outputs": [
        {
          "output_type": "execute_result",
          "data": {
            "text/plain": [
              "(91, 31, 3)"
            ]
          },
          "metadata": {},
          "execution_count": 18
        }
      ],
      "source": [
        "test_x.shape"
      ]
    },
    {
      "cell_type": "code",
      "execution_count": 19,
      "metadata": {
        "colab": {
          "base_uri": "https://localhost:8080/"
        },
        "id": "kmBR_kzkMsfl",
        "outputId": "ca01fde4-4746-4183-96f6-1d822adc596a"
      },
      "outputs": [
        {
          "output_type": "execute_result",
          "data": {
            "text/plain": [
              "(91, 3)"
            ]
          },
          "metadata": {},
          "execution_count": 19
        }
      ],
      "source": [
        "test_y.shape"
      ]
    },
    {
      "cell_type": "markdown",
      "metadata": {
        "id": "LWI-AIwPMsfl"
      },
      "source": [
        "#### Define the model 1"
      ]
    },
    {
      "cell_type": "code",
      "execution_count": 20,
      "metadata": {
        "id": "qF0qu0HsMsfn"
      },
      "outputs": [],
      "source": [
        "model = tf.keras.Sequential([  \n",
        "    tf.keras.layers.Dense(64, activation='relu', input_shape=(31, 3)),\n",
        "    tf.keras.layers.GRU(16),\n",
        "    tf.keras.layers.Flatten(),\n",
        "    tf.keras.layers.Dropout(0.1),\n",
        "    tf.keras.layers.Dense(3, activation='softmax'),\n",
        "])\n",
        "\n",
        "\n",
        "model.compile(optimizer='adam', loss='categorical_crossentropy',metrics=['accuracy'])"
      ]
    },
    {
      "cell_type": "code",
      "execution_count": 21,
      "metadata": {
        "colab": {
          "base_uri": "https://localhost:8080/"
        },
        "id": "ZvkZll3hMsfn",
        "outputId": "38346361-4ceb-48b0-ca25-581462d56ee0"
      },
      "outputs": [
        {
          "output_type": "stream",
          "name": "stdout",
          "text": [
            "Epoch 1/30\n",
            "2/2 [==============================] - 3s 617ms/step - loss: 1.1424 - accuracy: 0.3769 - val_loss: 1.0685 - val_accuracy: 0.5604\n",
            "Epoch 2/30\n",
            "2/2 [==============================] - 0s 59ms/step - loss: 1.1121 - accuracy: 0.3880 - val_loss: 1.0427 - val_accuracy: 0.5495\n",
            "Epoch 3/30\n",
            "2/2 [==============================] - 0s 52ms/step - loss: 1.0889 - accuracy: 0.4124 - val_loss: 1.0207 - val_accuracy: 0.5495\n",
            "Epoch 4/30\n",
            "2/2 [==============================] - 0s 56ms/step - loss: 1.0491 - accuracy: 0.4302 - val_loss: 1.0002 - val_accuracy: 0.5495\n",
            "Epoch 5/30\n",
            "2/2 [==============================] - 0s 55ms/step - loss: 1.0288 - accuracy: 0.4124 - val_loss: 0.9819 - val_accuracy: 0.5495\n",
            "Epoch 6/30\n",
            "2/2 [==============================] - 0s 55ms/step - loss: 1.0143 - accuracy: 0.4302 - val_loss: 0.9661 - val_accuracy: 0.5714\n",
            "Epoch 7/30\n",
            "2/2 [==============================] - 0s 61ms/step - loss: 0.9779 - accuracy: 0.4590 - val_loss: 0.9515 - val_accuracy: 0.5604\n",
            "Epoch 8/30\n",
            "2/2 [==============================] - 0s 58ms/step - loss: 0.9650 - accuracy: 0.4435 - val_loss: 0.9401 - val_accuracy: 0.5604\n",
            "Epoch 9/30\n",
            "2/2 [==============================] - 0s 63ms/step - loss: 0.9559 - accuracy: 0.4412 - val_loss: 0.9296 - val_accuracy: 0.5385\n",
            "Epoch 10/30\n",
            "2/2 [==============================] - 0s 56ms/step - loss: 0.9336 - accuracy: 0.4989 - val_loss: 0.9198 - val_accuracy: 0.4835\n",
            "Epoch 11/30\n",
            "2/2 [==============================] - 0s 74ms/step - loss: 0.9281 - accuracy: 0.4767 - val_loss: 0.9131 - val_accuracy: 0.3956\n",
            "Epoch 12/30\n",
            "2/2 [==============================] - 0s 60ms/step - loss: 0.9168 - accuracy: 0.4922 - val_loss: 0.9072 - val_accuracy: 0.3956\n",
            "Epoch 13/30\n",
            "2/2 [==============================] - 0s 77ms/step - loss: 0.9019 - accuracy: 0.4945 - val_loss: 0.9022 - val_accuracy: 0.3956\n",
            "Epoch 14/30\n",
            "2/2 [==============================] - 0s 53ms/step - loss: 0.8981 - accuracy: 0.5078 - val_loss: 0.8979 - val_accuracy: 0.3956\n",
            "Epoch 15/30\n",
            "2/2 [==============================] - 0s 60ms/step - loss: 0.8914 - accuracy: 0.4967 - val_loss: 0.8956 - val_accuracy: 0.3956\n",
            "Epoch 16/30\n",
            "2/2 [==============================] - 0s 80ms/step - loss: 0.8851 - accuracy: 0.5166 - val_loss: 0.8948 - val_accuracy: 0.3956\n",
            "Epoch 17/30\n",
            "2/2 [==============================] - 0s 54ms/step - loss: 0.8918 - accuracy: 0.5100 - val_loss: 0.8936 - val_accuracy: 0.3956\n",
            "Epoch 18/30\n",
            "2/2 [==============================] - 0s 50ms/step - loss: 0.8772 - accuracy: 0.4967 - val_loss: 0.8918 - val_accuracy: 0.3956\n",
            "Epoch 19/30\n",
            "2/2 [==============================] - 0s 55ms/step - loss: 0.8829 - accuracy: 0.5055 - val_loss: 0.8897 - val_accuracy: 0.3956\n",
            "Epoch 20/30\n",
            "2/2 [==============================] - 0s 52ms/step - loss: 0.8821 - accuracy: 0.4789 - val_loss: 0.8870 - val_accuracy: 0.3956\n",
            "Epoch 21/30\n",
            "2/2 [==============================] - 0s 52ms/step - loss: 0.8772 - accuracy: 0.4900 - val_loss: 0.8865 - val_accuracy: 0.3956\n",
            "Epoch 22/30\n",
            "2/2 [==============================] - 0s 61ms/step - loss: 0.8795 - accuracy: 0.4878 - val_loss: 0.8869 - val_accuracy: 0.3956\n",
            "Epoch 23/30\n",
            "2/2 [==============================] - 0s 53ms/step - loss: 0.8769 - accuracy: 0.5100 - val_loss: 0.8888 - val_accuracy: 0.3956\n",
            "Epoch 24/30\n",
            "2/2 [==============================] - 0s 54ms/step - loss: 0.8783 - accuracy: 0.5188 - val_loss: 0.8901 - val_accuracy: 0.3956\n",
            "Epoch 25/30\n",
            "2/2 [==============================] - 0s 51ms/step - loss: 0.8804 - accuracy: 0.5122 - val_loss: 0.8911 - val_accuracy: 0.3956\n",
            "Epoch 26/30\n",
            "2/2 [==============================] - 0s 54ms/step - loss: 0.8645 - accuracy: 0.5122 - val_loss: 0.8900 - val_accuracy: 0.3956\n",
            "Epoch 27/30\n",
            "2/2 [==============================] - 0s 55ms/step - loss: 0.8867 - accuracy: 0.4789 - val_loss: 0.8892 - val_accuracy: 0.3956\n",
            "Epoch 28/30\n",
            "2/2 [==============================] - 0s 55ms/step - loss: 0.8863 - accuracy: 0.5122 - val_loss: 0.8902 - val_accuracy: 0.3956\n",
            "Epoch 29/30\n",
            "2/2 [==============================] - 0s 59ms/step - loss: 0.8820 - accuracy: 0.5078 - val_loss: 0.8882 - val_accuracy: 0.3956\n",
            "Epoch 30/30\n",
            "2/2 [==============================] - 0s 54ms/step - loss: 0.8789 - accuracy: 0.4967 - val_loss: 0.8882 - val_accuracy: 0.3956\n"
          ]
        }
      ],
      "source": [
        "# Train the model\n",
        "history1 = model.fit(train_x, train_y, epochs=30, validation_data=(test_x, test_y), batch_size=256)"
      ]
    },
    {
      "cell_type": "code",
      "execution_count": 22,
      "metadata": {
        "colab": {
          "base_uri": "https://localhost:8080/"
        },
        "id": "XX7J_i7bMsfo",
        "outputId": "2a282b91-c013-4d64-d73d-eefff7acb972"
      },
      "outputs": [
        {
          "output_type": "stream",
          "name": "stdout",
          "text": [
            "3/3 [==============================] - 0s 10ms/step - loss: 0.8882 - accuracy: 0.3956\n",
            "Test loss: 0.8882225155830383\n"
          ]
        }
      ],
      "source": [
        "# Evaluate the model on the test dataset\n",
        "test_loss1, test_acc1 = model.evaluate(test_x, test_y)\n",
        "print('Test loss:', test_loss1)"
      ]
    },
    {
      "cell_type": "code",
      "execution_count": 23,
      "metadata": {
        "colab": {
          "base_uri": "https://localhost:8080/",
          "height": 472
        },
        "id": "r45HQMIolpHw",
        "outputId": "af06348e-0cbf-44e3-a1e2-cdb5a63f6f9b",
        "scrolled": true
      },
      "outputs": [
        {
          "output_type": "display_data",
          "data": {
            "text/plain": [
              "<Figure size 640x480 with 1 Axes>"
            ],
            "image/png": "[encoded data removed]"
          },
          "metadata": {}
        }
      ],
      "source": [
        "# Plot the validation and test loss for each epoch\n",
        "plt.plot(history1.history['loss'])\n",
        "plt.plot(history1.history['val_loss'])\n",
        "plt.title('Model loss')\n",
        "plt.ylabel('Loss')\n",
        "plt.xlabel('Epoch')\n",
        "plt.legend(['Train', 'Validation'], loc='upper right')\n",
        "plt.show()"
      ]
    },
    {
      "cell_type": "markdown",
      "metadata": {
        "id": "F92E0geaMsfo"
      },
      "source": [
        "#### Define the model 2"
      ]
    },
    {
      "cell_type": "code",
      "execution_count": 24,
      "metadata": {
        "id": "t2iuLIu5Msfp"
      },
      "outputs": [],
      "source": [
        "model = tf.keras.Sequential([  \n",
        "    tf.keras.layers.Dense(128, activation='relu', input_shape=(31, 3)),\n",
        "    tf.keras.layers.GRU(18, return_sequences=True),\n",
        "    tf.keras.layers.Flatten(),\n",
        "    tf.keras.layers.Dropout(0.3),\n",
        "    tf.keras.layers.Dense(3, activation='softmax'),\n",
        "])\n",
        "\n",
        "\n",
        "model.compile(optimizer='adam', loss='categorical_crossentropy',metrics=['accuracy'])"
      ]
    },
    {
      "cell_type": "code",
      "execution_count": 25,
      "metadata": {
        "colab": {
          "base_uri": "https://localhost:8080/"
        },
        "id": "jOBvmsuSMsfp",
        "outputId": "ba83ed56-9264-4e65-948e-8a38fcf89c36"
      },
      "outputs": [
        {
          "output_type": "stream",
          "name": "stdout",
          "text": [
            "Epoch 1/30\n",
            "2/2 [==============================] - 4s 519ms/step - loss: 1.0896 - accuracy: 0.4058 - val_loss: 1.0524 - val_accuracy: 0.3956\n",
            "Epoch 2/30\n",
            "2/2 [==============================] - 0s 66ms/step - loss: 1.0304 - accuracy: 0.5122 - val_loss: 1.0040 - val_accuracy: 0.3956\n",
            "Epoch 3/30\n",
            "2/2 [==============================] - 0s 69ms/step - loss: 0.9866 - accuracy: 0.4922 - val_loss: 0.9617 - val_accuracy: 0.3956\n",
            "Epoch 4/30\n",
            "2/2 [==============================] - 0s 66ms/step - loss: 0.9390 - accuracy: 0.5233 - val_loss: 0.9273 - val_accuracy: 0.3956\n",
            "Epoch 5/30\n",
            "2/2 [==============================] - 0s 71ms/step - loss: 0.9091 - accuracy: 0.5144 - val_loss: 0.9042 - val_accuracy: 0.3956\n",
            "Epoch 6/30\n",
            "2/2 [==============================] - 0s 84ms/step - loss: 0.8943 - accuracy: 0.4878 - val_loss: 0.8960 - val_accuracy: 0.3956\n",
            "Epoch 7/30\n",
            "2/2 [==============================] - 0s 65ms/step - loss: 0.8833 - accuracy: 0.5122 - val_loss: 0.8983 - val_accuracy: 0.3956\n",
            "Epoch 8/30\n",
            "2/2 [==============================] - 0s 67ms/step - loss: 0.8815 - accuracy: 0.5188 - val_loss: 0.8978 - val_accuracy: 0.3956\n",
            "Epoch 9/30\n",
            "2/2 [==============================] - 0s 65ms/step - loss: 0.8777 - accuracy: 0.5011 - val_loss: 0.8974 - val_accuracy: 0.3956\n",
            "Epoch 10/30\n",
            "2/2 [==============================] - 0s 72ms/step - loss: 0.8947 - accuracy: 0.4922 - val_loss: 0.8921 - val_accuracy: 0.3956\n",
            "Epoch 11/30\n",
            "2/2 [==============================] - 0s 70ms/step - loss: 0.8959 - accuracy: 0.4989 - val_loss: 0.8861 - val_accuracy: 0.3956\n",
            "Epoch 12/30\n",
            "2/2 [==============================] - 0s 70ms/step - loss: 0.8920 - accuracy: 0.4900 - val_loss: 0.8818 - val_accuracy: 0.3956\n",
            "Epoch 13/30\n",
            "2/2 [==============================] - 0s 73ms/step - loss: 0.8855 - accuracy: 0.4989 - val_loss: 0.8793 - val_accuracy: 0.3956\n",
            "Epoch 14/30\n",
            "2/2 [==============================] - 0s 62ms/step - loss: 0.8888 - accuracy: 0.4856 - val_loss: 0.8810 - val_accuracy: 0.3956\n",
            "Epoch 15/30\n",
            "2/2 [==============================] - 0s 66ms/step - loss: 0.8742 - accuracy: 0.5211 - val_loss: 0.8833 - val_accuracy: 0.3956\n",
            "Epoch 16/30\n",
            "2/2 [==============================] - 0s 65ms/step - loss: 0.8723 - accuracy: 0.5211 - val_loss: 0.8876 - val_accuracy: 0.3956\n",
            "Epoch 17/30\n",
            "2/2 [==============================] - 0s 64ms/step - loss: 0.8820 - accuracy: 0.5078 - val_loss: 0.8920 - val_accuracy: 0.3956\n",
            "Epoch 18/30\n",
            "2/2 [==============================] - 0s 77ms/step - loss: 0.8708 - accuracy: 0.5188 - val_loss: 0.8943 - val_accuracy: 0.3956\n",
            "Epoch 19/30\n",
            "2/2 [==============================] - 0s 70ms/step - loss: 0.8769 - accuracy: 0.5188 - val_loss: 0.8926 - val_accuracy: 0.3956\n",
            "Epoch 20/30\n",
            "2/2 [==============================] - 0s 68ms/step - loss: 0.8762 - accuracy: 0.5144 - val_loss: 0.8888 - val_accuracy: 0.3956\n",
            "Epoch 21/30\n",
            "2/2 [==============================] - 0s 62ms/step - loss: 0.8712 - accuracy: 0.5122 - val_loss: 0.8816 - val_accuracy: 0.3956\n",
            "Epoch 22/30\n",
            "2/2 [==============================] - 0s 70ms/step - loss: 0.8645 - accuracy: 0.5277 - val_loss: 0.8797 - val_accuracy: 0.3956\n",
            "Epoch 23/30\n",
            "2/2 [==============================] - 0s 79ms/step - loss: 0.8663 - accuracy: 0.5233 - val_loss: 0.8797 - val_accuracy: 0.3956\n",
            "Epoch 24/30\n",
            "2/2 [==============================] - 0s 71ms/step - loss: 0.8706 - accuracy: 0.5166 - val_loss: 0.8805 - val_accuracy: 0.3956\n",
            "Epoch 25/30\n",
            "2/2 [==============================] - 0s 71ms/step - loss: 0.8750 - accuracy: 0.5211 - val_loss: 0.8822 - val_accuracy: 0.3956\n",
            "Epoch 26/30\n",
            "2/2 [==============================] - 0s 64ms/step - loss: 0.8764 - accuracy: 0.5188 - val_loss: 0.8775 - val_accuracy: 0.3846\n",
            "Epoch 27/30\n",
            "2/2 [==============================] - 0s 67ms/step - loss: 0.8666 - accuracy: 0.5499 - val_loss: 0.8741 - val_accuracy: 0.3956\n",
            "Epoch 28/30\n",
            "2/2 [==============================] - 0s 63ms/step - loss: 0.8710 - accuracy: 0.5233 - val_loss: 0.8718 - val_accuracy: 0.4396\n",
            "Epoch 29/30\n",
            "2/2 [==============================] - 0s 64ms/step - loss: 0.8672 - accuracy: 0.5255 - val_loss: 0.8694 - val_accuracy: 0.4505\n",
            "Epoch 30/30\n",
            "2/2 [==============================] - 0s 70ms/step - loss: 0.8743 - accuracy: 0.5055 - val_loss: 0.8704 - val_accuracy: 0.4505\n"
          ]
        }
      ],
      "source": [
        "# Train the model\n",
        "history2 = model.fit(train_x, train_y, epochs=30, validation_data=(test_x, test_y), batch_size=256)"
      ]
    },
    {
      "cell_type": "code",
      "execution_count": 26,
      "metadata": {
        "colab": {
          "base_uri": "https://localhost:8080/"
        },
        "id": "qCJbgX-5Msfp",
        "outputId": "13e9d6bb-9aaf-4bce-8aff-b0f401b8492d"
      },
      "outputs": [
        {
          "output_type": "stream",
          "name": "stdout",
          "text": [
            "3/3 [==============================] - 0s 8ms/step - loss: 0.8704 - accuracy: 0.4505\n",
            "Test loss: 0.8704054355621338\n"
          ]
        }
      ],
      "source": [
        "# Evaluate the model on the test dataset\n",
        "test_loss2, test_acc2 = model.evaluate(test_x, test_y)\n",
        "print('Test loss:', test_loss2)"
      ]
    },
    {
      "cell_type": "code",
      "execution_count": 27,
      "metadata": {
        "colab": {
          "base_uri": "https://localhost:8080/",
          "height": 472
        },
        "outputId": "365cd48d-9ecb-4916-c4d0-d8e704e029bf",
        "id": "Rw7HymfdMsfq"
      },
      "outputs": [
        {
          "output_type": "display_data",
          "data": {
            "text/plain": [
              "<Figure size 640x480 with 1 Axes>"
            ],
            "image/png": "[encoded data removed]"
          },
          "metadata": {}
        }
      ],
      "source": [
        "# Plot the validation and test loss for each epoch\n",
        "plt.plot(history2.history['loss'])\n",
        "plt.plot(history2.history['val_loss'])\n",
        "plt.title('Model loss')\n",
        "plt.ylabel('Loss')\n",
        "plt.xlabel('Epoch')\n",
        "plt.legend(['Train', 'Validation'], loc='upper right')\n",
        "plt.show()"
      ]
    },
    {
      "cell_type": "markdown",
      "metadata": {
        "id": "QbTJK-93Msfq"
      },
      "source": [
        "#### Define the model 3"
      ]
    },
    {
      "cell_type": "code",
      "execution_count": 28,
      "metadata": {
        "id": "CEClmg_aMsfq"
      },
      "outputs": [],
      "source": [
        "model = tf.keras.Sequential([  \n",
        "    tf.keras.layers.Dense(256, activation='relu', input_shape=(31, 3)),\n",
        "    tf.keras.layers.GRU(128, return_sequences=True),\n",
        "    tf.keras.layers.Dense(64, activation='relu'),\n",
        "    tf.keras.layers.GRU(32, return_sequences=True),\n",
        "    tf.keras.layers.Flatten(),\n",
        "    tf.keras.layers.Dropout(0.3),\n",
        "    tf.keras.layers.Dense(3, activation='softmax'),\n",
        "])\n",
        "\n",
        "\n",
        "model.compile(optimizer='adam', loss='categorical_crossentropy',metrics=['accuracy'])"
      ]
    },
    {
      "cell_type": "code",
      "execution_count": 29,
      "metadata": {
        "colab": {
          "base_uri": "https://localhost:8080/"
        },
        "id": "mEVPFxLHMsfr",
        "outputId": "e1335531-e4d0-4463-fa11-81c1dbe36bc2"
      },
      "outputs": [
        {
          "output_type": "stream",
          "name": "stdout",
          "text": [
            "Epoch 1/30\n",
            "2/2 [==============================] - 6s 2s/step - loss: 1.0855 - accuracy: 0.3326 - val_loss: 1.0012 - val_accuracy: 0.5714\n",
            "Epoch 2/30\n",
            "2/2 [==============================] - 1s 415ms/step - loss: 0.9913 - accuracy: 0.4124 - val_loss: 0.9021 - val_accuracy: 0.5495\n",
            "Epoch 3/30\n",
            "2/2 [==============================] - 1s 491ms/step - loss: 0.9012 - accuracy: 0.4568 - val_loss: 0.8925 - val_accuracy: 0.3956\n",
            "Epoch 4/30\n",
            "2/2 [==============================] - 1s 251ms/step - loss: 0.8918 - accuracy: 0.5055 - val_loss: 0.9397 - val_accuracy: 0.3956\n",
            "Epoch 5/30\n",
            "2/2 [==============================] - 1s 272ms/step - loss: 0.9236 - accuracy: 0.5255 - val_loss: 0.9077 - val_accuracy: 0.3956\n",
            "Epoch 6/30\n",
            "2/2 [==============================] - 0s 229ms/step - loss: 0.9061 - accuracy: 0.4989 - val_loss: 0.8748 - val_accuracy: 0.3956\n",
            "Epoch 7/30\n",
            "2/2 [==============================] - 1s 276ms/step - loss: 0.8885 - accuracy: 0.4745 - val_loss: 0.8873 - val_accuracy: 0.3956\n",
            "Epoch 8/30\n",
            "2/2 [==============================] - 0s 256ms/step - loss: 0.8885 - accuracy: 0.4945 - val_loss: 0.9091 - val_accuracy: 0.3956\n",
            "Epoch 9/30\n",
            "2/2 [==============================] - 1s 293ms/step - loss: 0.8935 - accuracy: 0.5188 - val_loss: 0.9152 - val_accuracy: 0.3956\n",
            "Epoch 10/30\n",
            "2/2 [==============================] - 0s 249ms/step - loss: 0.8955 - accuracy: 0.5211 - val_loss: 0.9025 - val_accuracy: 0.3956\n",
            "Epoch 11/30\n",
            "2/2 [==============================] - 0s 271ms/step - loss: 0.8804 - accuracy: 0.5277 - val_loss: 0.8850 - val_accuracy: 0.3956\n",
            "Epoch 12/30\n",
            "2/2 [==============================] - 1s 275ms/step - loss: 0.8754 - accuracy: 0.5055 - val_loss: 0.8808 - val_accuracy: 0.3956\n",
            "Epoch 13/30\n",
            "2/2 [==============================] - 0s 251ms/step - loss: 0.8822 - accuracy: 0.5078 - val_loss: 0.8806 - val_accuracy: 0.3956\n",
            "Epoch 14/30\n",
            "2/2 [==============================] - 0s 242ms/step - loss: 0.8801 - accuracy: 0.4678 - val_loss: 0.8851 - val_accuracy: 0.3956\n",
            "Epoch 15/30\n",
            "2/2 [==============================] - 1s 269ms/step - loss: 0.8819 - accuracy: 0.4856 - val_loss: 0.8894 - val_accuracy: 0.3956\n",
            "Epoch 16/30\n",
            "2/2 [==============================] - 0s 248ms/step - loss: 0.8734 - accuracy: 0.5122 - val_loss: 0.8928 - val_accuracy: 0.3956\n",
            "Epoch 17/30\n",
            "2/2 [==============================] - 0s 253ms/step - loss: 0.8824 - accuracy: 0.4945 - val_loss: 0.8907 - val_accuracy: 0.3956\n",
            "Epoch 18/30\n",
            "2/2 [==============================] - 0s 248ms/step - loss: 0.8723 - accuracy: 0.5277 - val_loss: 0.8911 - val_accuracy: 0.3956\n",
            "Epoch 19/30\n",
            "2/2 [==============================] - 1s 276ms/step - loss: 0.8748 - accuracy: 0.5233 - val_loss: 0.8859 - val_accuracy: 0.3956\n",
            "Epoch 20/30\n",
            "2/2 [==============================] - 0s 253ms/step - loss: 0.8755 - accuracy: 0.5255 - val_loss: 0.8831 - val_accuracy: 0.3956\n",
            "Epoch 21/30\n",
            "2/2 [==============================] - 0s 245ms/step - loss: 0.8803 - accuracy: 0.4989 - val_loss: 0.8845 - val_accuracy: 0.3956\n",
            "Epoch 22/30\n",
            "2/2 [==============================] - 1s 274ms/step - loss: 0.8766 - accuracy: 0.5144 - val_loss: 0.8838 - val_accuracy: 0.3956\n",
            "Epoch 23/30\n",
            "2/2 [==============================] - 1s 291ms/step - loss: 0.8785 - accuracy: 0.5122 - val_loss: 0.8830 - val_accuracy: 0.3956\n",
            "Epoch 24/30\n",
            "2/2 [==============================] - 1s 427ms/step - loss: 0.8785 - accuracy: 0.4812 - val_loss: 0.8788 - val_accuracy: 0.3956\n",
            "Epoch 25/30\n",
            "2/2 [==============================] - 1s 423ms/step - loss: 0.8672 - accuracy: 0.5144 - val_loss: 0.8835 - val_accuracy: 0.3956\n",
            "Epoch 26/30\n",
            "2/2 [==============================] - 1s 413ms/step - loss: 0.8724 - accuracy: 0.5100 - val_loss: 0.8871 - val_accuracy: 0.3956\n",
            "Epoch 27/30\n",
            "2/2 [==============================] - 1s 422ms/step - loss: 0.8702 - accuracy: 0.5211 - val_loss: 0.8892 - val_accuracy: 0.3956\n",
            "Epoch 28/30\n",
            "2/2 [==============================] - 1s 412ms/step - loss: 0.8720 - accuracy: 0.5188 - val_loss: 0.8869 - val_accuracy: 0.3956\n",
            "Epoch 29/30\n",
            "2/2 [==============================] - 1s 263ms/step - loss: 0.8660 - accuracy: 0.5188 - val_loss: 0.8799 - val_accuracy: 0.3956\n",
            "Epoch 30/30\n",
            "2/2 [==============================] - 1s 253ms/step - loss: 0.8745 - accuracy: 0.5122 - val_loss: 0.8751 - val_accuracy: 0.3956\n"
          ]
        }
      ],
      "source": [
        "# Train the model\n",
        "history3 = model.fit(train_x, train_y, epochs=30, validation_data=(test_x, test_y), batch_size=256)"
      ]
    },
    {
      "cell_type": "code",
      "execution_count": 30,
      "metadata": {
        "colab": {
          "base_uri": "https://localhost:8080/"
        },
        "id": "1oPFsIrtMsfr",
        "outputId": "eef95af7-84b1-44a9-c631-238de0c28ef0"
      },
      "outputs": [
        {
          "output_type": "stream",
          "name": "stdout",
          "text": [
            "3/3 [==============================] - 0s 22ms/step - loss: 0.8751 - accuracy: 0.3956\n",
            "Test loss: 0.8750542402267456\n"
          ]
        }
      ],
      "source": [
        "# Evaluate the model on the test dataset\n",
        "test_loss3, test_acc3 = model.evaluate(test_x, test_y)\n",
        "print('Test loss:', test_loss3)"
      ]
    },
    {
      "cell_type": "code",
      "execution_count": 31,
      "metadata": {
        "colab": {
          "base_uri": "https://localhost:8080/",
          "height": 472
        },
        "outputId": "edd04706-a80b-4b58-a270-e1362ba9660a",
        "id": "P7unVRtXMsfr"
      },
      "outputs": [
        {
          "output_type": "display_data",
          "data": {
            "text/plain": [
              "<Figure size 640x480 with 1 Axes>"
            ],
            "image/png": "[encoded data removed]"
          },
          "metadata": {}
        }
      ],
      "source": [
        "# Plot the validation and test loss for each epoch\n",
        "plt.plot(history3.history['loss'])\n",
        "plt.plot(history3.history['val_loss'])\n",
        "plt.title('Model loss')\n",
        "plt.ylabel('Loss')\n",
        "plt.xlabel('Epoch')\n",
        "plt.legend(['Train', 'Validation'], loc='upper right')\n",
        "plt.show()"
      ]
    },
    {
      "cell_type": "markdown",
      "metadata": {
        "id": "zkiXbNhFMsfs"
      },
      "source": [
        "#### Define the model 4"
      ]
    },
    {
      "cell_type": "code",
      "execution_count": 32,
      "metadata": {
        "id": "dKFwCTIVMsfs"
      },
      "outputs": [],
      "source": [
        "model = tf.keras.Sequential([  \n",
        "    tf.keras.layers.Dense(128, activation='relu', input_shape=(31, 3)),\n",
        "    tf.keras.layers.GRU(128, return_sequences=True),\n",
        "    tf.keras.layers.Dense(64, activation='relu'),\n",
        "    tf.keras.layers.GRU(32, return_sequences=True),\n",
        "    tf.keras.layers.Flatten(),\n",
        "    tf.keras.layers.Dropout(0.3),\n",
        "    tf.keras.layers.Dense(3, activation='softmax'),\n",
        "])\n",
        "\n",
        "adam = tf.keras.optimizers.Adam(learning_rate=0.0001)\n",
        "model.compile(optimizer=adam, loss='categorical_crossentropy',metrics=['accuracy'])"
      ]
    },
    {
      "cell_type": "code",
      "execution_count": 33,
      "metadata": {
        "colab": {
          "base_uri": "https://localhost:8080/"
        },
        "id": "v_BhQtyGMsfs",
        "outputId": "06e03c6a-ca34-48a8-94aa-5b57b5173c42"
      },
      "outputs": [
        {
          "output_type": "stream",
          "name": "stdout",
          "text": [
            "Epoch 1/150\n",
            "2/2 [==============================] - 5s 1s/step - loss: 1.0808 - accuracy: 0.4545 - val_loss: 1.0656 - val_accuracy: 0.5714\n",
            "Epoch 2/150\n",
            "2/2 [==============================] - 0s 228ms/step - loss: 1.0710 - accuracy: 0.4501 - val_loss: 1.0542 - val_accuracy: 0.5714\n",
            "Epoch 3/150\n",
            "2/2 [==============================] - 0s 208ms/step - loss: 1.0592 - accuracy: 0.4435 - val_loss: 1.0429 - val_accuracy: 0.5714\n",
            "Epoch 4/150\n",
            "2/2 [==============================] - 0s 210ms/step - loss: 1.0501 - accuracy: 0.4346 - val_loss: 1.0320 - val_accuracy: 0.5714\n",
            "Epoch 5/150\n",
            "2/2 [==============================] - 0s 256ms/step - loss: 1.0381 - accuracy: 0.4257 - val_loss: 1.0220 - val_accuracy: 0.5714\n",
            "Epoch 6/150\n",
            "2/2 [==============================] - 0s 271ms/step - loss: 1.0286 - accuracy: 0.4390 - val_loss: 1.0119 - val_accuracy: 0.5714\n",
            "Epoch 7/150\n",
            "2/2 [==============================] - 0s 248ms/step - loss: 1.0190 - accuracy: 0.4390 - val_loss: 1.0017 - val_accuracy: 0.5714\n",
            "Epoch 8/150\n",
            "2/2 [==============================] - 1s 372ms/step - loss: 1.0111 - accuracy: 0.4612 - val_loss: 0.9914 - val_accuracy: 0.5714\n",
            "Epoch 9/150\n",
            "2/2 [==============================] - 1s 351ms/step - loss: 0.9920 - accuracy: 0.4856 - val_loss: 0.9807 - val_accuracy: 0.5714\n",
            "Epoch 10/150\n",
            "2/2 [==============================] - 1s 377ms/step - loss: 0.9841 - accuracy: 0.4723 - val_loss: 0.9702 - val_accuracy: 0.5714\n",
            "Epoch 11/150\n",
            "2/2 [==============================] - 1s 371ms/step - loss: 0.9789 - accuracy: 0.4390 - val_loss: 0.9598 - val_accuracy: 0.5604\n",
            "Epoch 12/150\n",
            "2/2 [==============================] - 1s 353ms/step - loss: 0.9640 - accuracy: 0.4634 - val_loss: 0.9499 - val_accuracy: 0.4945\n",
            "Epoch 13/150\n",
            "2/2 [==============================] - 1s 356ms/step - loss: 0.9548 - accuracy: 0.4590 - val_loss: 0.9407 - val_accuracy: 0.4286\n",
            "Epoch 14/150\n",
            "2/2 [==============================] - 0s 220ms/step - loss: 0.9484 - accuracy: 0.4745 - val_loss: 0.9319 - val_accuracy: 0.3956\n",
            "Epoch 15/150\n",
            "2/2 [==============================] - 0s 229ms/step - loss: 0.9319 - accuracy: 0.4767 - val_loss: 0.9239 - val_accuracy: 0.3956\n",
            "Epoch 16/150\n",
            "2/2 [==============================] - 0s 201ms/step - loss: 0.9268 - accuracy: 0.4812 - val_loss: 0.9161 - val_accuracy: 0.3956\n",
            "Epoch 17/150\n",
            "2/2 [==============================] - 0s 193ms/step - loss: 0.9159 - accuracy: 0.4590 - val_loss: 0.9095 - val_accuracy: 0.3956\n",
            "Epoch 18/150\n",
            "2/2 [==============================] - 0s 210ms/step - loss: 0.9056 - accuracy: 0.5299 - val_loss: 0.9037 - val_accuracy: 0.3956\n",
            "Epoch 19/150\n",
            "2/2 [==============================] - 0s 253ms/step - loss: 0.9013 - accuracy: 0.4922 - val_loss: 0.8995 - val_accuracy: 0.3956\n",
            "Epoch 20/150\n",
            "2/2 [==============================] - 0s 289ms/step - loss: 0.8918 - accuracy: 0.5344 - val_loss: 0.8967 - val_accuracy: 0.3956\n",
            "Epoch 21/150\n",
            "2/2 [==============================] - 0s 236ms/step - loss: 0.8919 - accuracy: 0.4900 - val_loss: 0.8942 - val_accuracy: 0.3956\n",
            "Epoch 22/150\n",
            "2/2 [==============================] - 0s 217ms/step - loss: 0.8887 - accuracy: 0.4967 - val_loss: 0.8923 - val_accuracy: 0.3956\n",
            "Epoch 23/150\n",
            "2/2 [==============================] - 0s 225ms/step - loss: 0.8819 - accuracy: 0.5188 - val_loss: 0.8922 - val_accuracy: 0.3956\n",
            "Epoch 24/150\n",
            "2/2 [==============================] - 0s 243ms/step - loss: 0.8867 - accuracy: 0.4856 - val_loss: 0.8928 - val_accuracy: 0.3956\n",
            "Epoch 25/150\n",
            "2/2 [==============================] - 0s 218ms/step - loss: 0.8753 - accuracy: 0.4967 - val_loss: 0.8932 - val_accuracy: 0.3956\n",
            "Epoch 26/150\n",
            "2/2 [==============================] - 0s 227ms/step - loss: 0.8774 - accuracy: 0.5100 - val_loss: 0.8935 - val_accuracy: 0.3956\n",
            "Epoch 27/150\n",
            "2/2 [==============================] - 0s 220ms/step - loss: 0.8790 - accuracy: 0.5011 - val_loss: 0.8934 - val_accuracy: 0.3956\n",
            "Epoch 28/150\n",
            "2/2 [==============================] - 0s 208ms/step - loss: 0.8876 - accuracy: 0.4900 - val_loss: 0.8938 - val_accuracy: 0.3956\n",
            "Epoch 29/150\n",
            "2/2 [==============================] - 0s 221ms/step - loss: 0.8903 - accuracy: 0.4878 - val_loss: 0.8944 - val_accuracy: 0.3956\n",
            "Epoch 30/150\n",
            "2/2 [==============================] - 0s 211ms/step - loss: 0.8825 - accuracy: 0.5255 - val_loss: 0.8936 - val_accuracy: 0.3956\n",
            "Epoch 31/150\n",
            "2/2 [==============================] - 0s 214ms/step - loss: 0.8839 - accuracy: 0.5144 - val_loss: 0.8918 - val_accuracy: 0.3956\n",
            "Epoch 32/150\n",
            "2/2 [==============================] - 0s 232ms/step - loss: 0.8804 - accuracy: 0.4878 - val_loss: 0.8903 - val_accuracy: 0.3956\n",
            "Epoch 33/150\n",
            "2/2 [==============================] - 0s 238ms/step - loss: 0.8778 - accuracy: 0.5410 - val_loss: 0.8894 - val_accuracy: 0.3956\n",
            "Epoch 34/150\n",
            "2/2 [==============================] - 0s 203ms/step - loss: 0.8912 - accuracy: 0.4878 - val_loss: 0.8886 - val_accuracy: 0.3956\n",
            "Epoch 35/150\n",
            "2/2 [==============================] - 0s 238ms/step - loss: 0.8798 - accuracy: 0.5055 - val_loss: 0.8887 - val_accuracy: 0.3956\n",
            "Epoch 36/150\n",
            "2/2 [==============================] - 0s 260ms/step - loss: 0.8915 - accuracy: 0.4878 - val_loss: 0.8895 - val_accuracy: 0.3956\n",
            "Epoch 37/150\n",
            "2/2 [==============================] - 1s 348ms/step - loss: 0.8816 - accuracy: 0.5188 - val_loss: 0.8888 - val_accuracy: 0.3956\n",
            "Epoch 38/150\n",
            "2/2 [==============================] - 1s 387ms/step - loss: 0.8870 - accuracy: 0.5122 - val_loss: 0.8887 - val_accuracy: 0.3956\n",
            "Epoch 39/150\n",
            "2/2 [==============================] - 1s 385ms/step - loss: 0.8883 - accuracy: 0.4767 - val_loss: 0.8887 - val_accuracy: 0.3956\n",
            "Epoch 40/150\n",
            "2/2 [==============================] - 1s 366ms/step - loss: 0.8833 - accuracy: 0.5011 - val_loss: 0.8894 - val_accuracy: 0.3956\n",
            "Epoch 41/150\n",
            "2/2 [==============================] - 1s 366ms/step - loss: 0.8836 - accuracy: 0.4967 - val_loss: 0.8900 - val_accuracy: 0.3956\n",
            "Epoch 42/150\n",
            "2/2 [==============================] - 1s 366ms/step - loss: 0.8846 - accuracy: 0.5055 - val_loss: 0.8901 - val_accuracy: 0.3956\n",
            "Epoch 43/150\n",
            "2/2 [==============================] - 1s 247ms/step - loss: 0.8727 - accuracy: 0.5188 - val_loss: 0.8902 - val_accuracy: 0.3956\n",
            "Epoch 44/150\n",
            "2/2 [==============================] - 0s 205ms/step - loss: 0.8752 - accuracy: 0.5055 - val_loss: 0.8903 - val_accuracy: 0.3956\n",
            "Epoch 45/150\n",
            "2/2 [==============================] - 0s 250ms/step - loss: 0.8819 - accuracy: 0.5166 - val_loss: 0.8899 - val_accuracy: 0.3956\n",
            "Epoch 46/150\n",
            "2/2 [==============================] - 0s 217ms/step - loss: 0.8838 - accuracy: 0.4989 - val_loss: 0.8894 - val_accuracy: 0.3956\n",
            "Epoch 47/150\n",
            "2/2 [==============================] - 0s 224ms/step - loss: 0.8827 - accuracy: 0.4922 - val_loss: 0.8887 - val_accuracy: 0.3956\n",
            "Epoch 48/150\n",
            "2/2 [==============================] - 1s 417ms/step - loss: 0.8823 - accuracy: 0.5122 - val_loss: 0.8888 - val_accuracy: 0.3956\n",
            "Epoch 49/150\n",
            "2/2 [==============================] - 1s 237ms/step - loss: 0.8784 - accuracy: 0.5122 - val_loss: 0.8890 - val_accuracy: 0.3956\n",
            "Epoch 50/150\n",
            "2/2 [==============================] - 1s 519ms/step - loss: 0.8722 - accuracy: 0.5233 - val_loss: 0.8891 - val_accuracy: 0.3956\n",
            "Epoch 51/150\n",
            "2/2 [==============================] - 1s 200ms/step - loss: 0.8735 - accuracy: 0.5011 - val_loss: 0.8889 - val_accuracy: 0.3956\n",
            "Epoch 52/150\n",
            "2/2 [==============================] - 1s 514ms/step - loss: 0.8805 - accuracy: 0.5100 - val_loss: 0.8887 - val_accuracy: 0.3956\n",
            "Epoch 53/150\n",
            "2/2 [==============================] - 1s 210ms/step - loss: 0.8835 - accuracy: 0.4834 - val_loss: 0.8887 - val_accuracy: 0.3956\n",
            "Epoch 54/150\n",
            "2/2 [==============================] - 0s 225ms/step - loss: 0.8901 - accuracy: 0.4634 - val_loss: 0.8884 - val_accuracy: 0.3956\n",
            "Epoch 55/150\n",
            "2/2 [==============================] - 0s 245ms/step - loss: 0.8753 - accuracy: 0.5078 - val_loss: 0.8892 - val_accuracy: 0.3956\n",
            "Epoch 56/150\n",
            "2/2 [==============================] - 0s 232ms/step - loss: 0.8718 - accuracy: 0.5211 - val_loss: 0.8898 - val_accuracy: 0.3956\n",
            "Epoch 57/150\n",
            "2/2 [==============================] - 0s 215ms/step - loss: 0.8778 - accuracy: 0.4834 - val_loss: 0.8910 - val_accuracy: 0.3956\n",
            "Epoch 58/150\n",
            "2/2 [==============================] - 0s 204ms/step - loss: 0.8829 - accuracy: 0.5100 - val_loss: 0.8913 - val_accuracy: 0.3956\n",
            "Epoch 59/150\n",
            "2/2 [==============================] - 0s 235ms/step - loss: 0.8831 - accuracy: 0.5011 - val_loss: 0.8912 - val_accuracy: 0.3956\n",
            "Epoch 60/150\n",
            "2/2 [==============================] - 0s 222ms/step - loss: 0.8819 - accuracy: 0.4856 - val_loss: 0.8909 - val_accuracy: 0.3956\n",
            "Epoch 61/150\n",
            "2/2 [==============================] - 0s 240ms/step - loss: 0.8725 - accuracy: 0.5100 - val_loss: 0.8898 - val_accuracy: 0.3956\n",
            "Epoch 62/150\n",
            "2/2 [==============================] - 0s 217ms/step - loss: 0.8803 - accuracy: 0.5011 - val_loss: 0.8896 - val_accuracy: 0.3956\n",
            "Epoch 63/150\n",
            "2/2 [==============================] - 0s 208ms/step - loss: 0.8753 - accuracy: 0.5122 - val_loss: 0.8881 - val_accuracy: 0.3956\n",
            "Epoch 64/150\n",
            "2/2 [==============================] - 1s 360ms/step - loss: 0.8742 - accuracy: 0.5122 - val_loss: 0.8871 - val_accuracy: 0.3956\n",
            "Epoch 65/150\n",
            "2/2 [==============================] - 1s 378ms/step - loss: 0.8717 - accuracy: 0.4989 - val_loss: 0.8862 - val_accuracy: 0.3956\n",
            "Epoch 66/150\n",
            "2/2 [==============================] - 1s 361ms/step - loss: 0.8777 - accuracy: 0.5255 - val_loss: 0.8857 - val_accuracy: 0.3956\n",
            "Epoch 67/150\n",
            "2/2 [==============================] - 1s 372ms/step - loss: 0.8731 - accuracy: 0.5055 - val_loss: 0.8852 - val_accuracy: 0.3956\n",
            "Epoch 68/150\n",
            "2/2 [==============================] - 1s 346ms/step - loss: 0.8778 - accuracy: 0.4989 - val_loss: 0.8849 - val_accuracy: 0.3956\n",
            "Epoch 69/150\n",
            "2/2 [==============================] - 1s 342ms/step - loss: 0.8740 - accuracy: 0.5366 - val_loss: 0.8853 - val_accuracy: 0.3956\n",
            "Epoch 70/150\n",
            "2/2 [==============================] - 1s 238ms/step - loss: 0.8826 - accuracy: 0.4834 - val_loss: 0.8865 - val_accuracy: 0.3956\n",
            "Epoch 71/150\n",
            "2/2 [==============================] - 0s 219ms/step - loss: 0.8794 - accuracy: 0.5055 - val_loss: 0.8875 - val_accuracy: 0.3956\n",
            "Epoch 72/150\n",
            "2/2 [==============================] - 0s 264ms/step - loss: 0.8765 - accuracy: 0.5166 - val_loss: 0.8880 - val_accuracy: 0.3956\n",
            "Epoch 73/150\n",
            "2/2 [==============================] - 0s 236ms/step - loss: 0.8769 - accuracy: 0.5366 - val_loss: 0.8886 - val_accuracy: 0.3956\n",
            "Epoch 74/150\n",
            "2/2 [==============================] - 0s 229ms/step - loss: 0.8688 - accuracy: 0.5455 - val_loss: 0.8893 - val_accuracy: 0.3956\n",
            "Epoch 75/150\n",
            "2/2 [==============================] - 0s 221ms/step - loss: 0.8848 - accuracy: 0.5055 - val_loss: 0.8896 - val_accuracy: 0.3956\n",
            "Epoch 76/150\n",
            "2/2 [==============================] - 0s 247ms/step - loss: 0.8804 - accuracy: 0.5211 - val_loss: 0.8897 - val_accuracy: 0.3956\n",
            "Epoch 77/150\n",
            "2/2 [==============================] - 0s 200ms/step - loss: 0.8842 - accuracy: 0.4945 - val_loss: 0.8891 - val_accuracy: 0.3956\n",
            "Epoch 78/150\n",
            "2/2 [==============================] - 0s 223ms/step - loss: 0.8777 - accuracy: 0.5166 - val_loss: 0.8890 - val_accuracy: 0.3956\n",
            "Epoch 79/150\n",
            "2/2 [==============================] - 0s 261ms/step - loss: 0.8766 - accuracy: 0.5011 - val_loss: 0.8885 - val_accuracy: 0.3956\n",
            "Epoch 80/150\n",
            "2/2 [==============================] - 0s 212ms/step - loss: 0.8827 - accuracy: 0.4945 - val_loss: 0.8878 - val_accuracy: 0.3956\n",
            "Epoch 81/150\n",
            "2/2 [==============================] - 0s 224ms/step - loss: 0.8768 - accuracy: 0.5211 - val_loss: 0.8874 - val_accuracy: 0.3956\n",
            "Epoch 82/150\n",
            "2/2 [==============================] - 0s 199ms/step - loss: 0.8672 - accuracy: 0.5255 - val_loss: 0.8876 - val_accuracy: 0.3956\n",
            "Epoch 83/150\n",
            "2/2 [==============================] - 0s 209ms/step - loss: 0.8812 - accuracy: 0.5166 - val_loss: 0.8879 - val_accuracy: 0.3956\n",
            "Epoch 84/150\n",
            "2/2 [==============================] - 0s 219ms/step - loss: 0.8673 - accuracy: 0.5565 - val_loss: 0.8879 - val_accuracy: 0.3956\n",
            "Epoch 85/150\n",
            "2/2 [==============================] - 0s 266ms/step - loss: 0.8784 - accuracy: 0.4989 - val_loss: 0.8877 - val_accuracy: 0.3956\n",
            "Epoch 86/150\n",
            "2/2 [==============================] - 0s 246ms/step - loss: 0.8810 - accuracy: 0.5033 - val_loss: 0.8873 - val_accuracy: 0.3956\n",
            "Epoch 87/150\n",
            "2/2 [==============================] - 0s 201ms/step - loss: 0.8775 - accuracy: 0.5033 - val_loss: 0.8869 - val_accuracy: 0.3956\n",
            "Epoch 88/150\n",
            "2/2 [==============================] - 0s 245ms/step - loss: 0.8748 - accuracy: 0.5100 - val_loss: 0.8870 - val_accuracy: 0.3956\n",
            "Epoch 89/150\n",
            "2/2 [==============================] - 0s 208ms/step - loss: 0.8783 - accuracy: 0.5033 - val_loss: 0.8865 - val_accuracy: 0.3956\n",
            "Epoch 90/150\n",
            "2/2 [==============================] - 0s 222ms/step - loss: 0.8795 - accuracy: 0.5033 - val_loss: 0.8866 - val_accuracy: 0.3956\n",
            "Epoch 91/150\n",
            "2/2 [==============================] - 0s 216ms/step - loss: 0.8783 - accuracy: 0.4834 - val_loss: 0.8862 - val_accuracy: 0.3956\n",
            "Epoch 92/150\n",
            "2/2 [==============================] - 0s 213ms/step - loss: 0.8811 - accuracy: 0.5033 - val_loss: 0.8861 - val_accuracy: 0.3956\n",
            "Epoch 93/150\n",
            "2/2 [==============================] - 0s 218ms/step - loss: 0.8776 - accuracy: 0.5078 - val_loss: 0.8867 - val_accuracy: 0.3956\n",
            "Epoch 94/150\n",
            "2/2 [==============================] - 1s 349ms/step - loss: 0.8767 - accuracy: 0.5166 - val_loss: 0.8860 - val_accuracy: 0.3956\n",
            "Epoch 95/150\n",
            "2/2 [==============================] - 1s 356ms/step - loss: 0.8753 - accuracy: 0.5033 - val_loss: 0.8864 - val_accuracy: 0.3956\n",
            "Epoch 96/150\n",
            "2/2 [==============================] - 1s 384ms/step - loss: 0.8813 - accuracy: 0.4967 - val_loss: 0.8867 - val_accuracy: 0.3956\n",
            "Epoch 97/150\n",
            "2/2 [==============================] - 1s 390ms/step - loss: 0.8777 - accuracy: 0.5211 - val_loss: 0.8870 - val_accuracy: 0.3956\n",
            "Epoch 98/150\n",
            "2/2 [==============================] - 1s 397ms/step - loss: 0.8808 - accuracy: 0.5166 - val_loss: 0.8875 - val_accuracy: 0.3956\n",
            "Epoch 99/150\n",
            "2/2 [==============================] - 1s 377ms/step - loss: 0.8732 - accuracy: 0.5033 - val_loss: 0.8865 - val_accuracy: 0.3956\n",
            "Epoch 100/150\n",
            "2/2 [==============================] - 1s 215ms/step - loss: 0.8794 - accuracy: 0.4989 - val_loss: 0.8862 - val_accuracy: 0.3956\n",
            "Epoch 101/150\n",
            "2/2 [==============================] - 0s 232ms/step - loss: 0.8769 - accuracy: 0.4967 - val_loss: 0.8855 - val_accuracy: 0.3956\n",
            "Epoch 102/150\n",
            "2/2 [==============================] - 0s 212ms/step - loss: 0.8819 - accuracy: 0.5211 - val_loss: 0.8855 - val_accuracy: 0.3956\n",
            "Epoch 103/150\n",
            "2/2 [==============================] - 0s 212ms/step - loss: 0.8843 - accuracy: 0.4701 - val_loss: 0.8856 - val_accuracy: 0.3956\n",
            "Epoch 104/150\n",
            "2/2 [==============================] - 0s 213ms/step - loss: 0.8796 - accuracy: 0.5122 - val_loss: 0.8855 - val_accuracy: 0.3956\n",
            "Epoch 105/150\n",
            "2/2 [==============================] - 0s 211ms/step - loss: 0.8752 - accuracy: 0.5255 - val_loss: 0.8849 - val_accuracy: 0.3956\n",
            "Epoch 106/150\n",
            "2/2 [==============================] - 0s 208ms/step - loss: 0.8820 - accuracy: 0.4812 - val_loss: 0.8843 - val_accuracy: 0.3956\n",
            "Epoch 107/150\n",
            "2/2 [==============================] - 0s 210ms/step - loss: 0.8719 - accuracy: 0.5277 - val_loss: 0.8836 - val_accuracy: 0.3956\n",
            "Epoch 108/150\n",
            "2/2 [==============================] - 0s 233ms/step - loss: 0.8784 - accuracy: 0.5299 - val_loss: 0.8827 - val_accuracy: 0.3956\n",
            "Epoch 109/150\n",
            "2/2 [==============================] - 0s 240ms/step - loss: 0.8723 - accuracy: 0.5122 - val_loss: 0.8821 - val_accuracy: 0.3956\n",
            "Epoch 110/150\n",
            "2/2 [==============================] - 0s 216ms/step - loss: 0.8719 - accuracy: 0.5122 - val_loss: 0.8820 - val_accuracy: 0.3956\n",
            "Epoch 111/150\n",
            "2/2 [==============================] - 0s 236ms/step - loss: 0.8734 - accuracy: 0.5233 - val_loss: 0.8824 - val_accuracy: 0.3956\n",
            "Epoch 112/150\n",
            "2/2 [==============================] - 0s 214ms/step - loss: 0.8704 - accuracy: 0.5410 - val_loss: 0.8830 - val_accuracy: 0.3956\n",
            "Epoch 113/150\n",
            "2/2 [==============================] - 0s 205ms/step - loss: 0.8781 - accuracy: 0.5122 - val_loss: 0.8843 - val_accuracy: 0.3956\n",
            "Epoch 114/150\n",
            "2/2 [==============================] - 0s 216ms/step - loss: 0.8734 - accuracy: 0.4967 - val_loss: 0.8849 - val_accuracy: 0.3956\n",
            "Epoch 115/150\n",
            "2/2 [==============================] - 0s 209ms/step - loss: 0.8727 - accuracy: 0.5255 - val_loss: 0.8848 - val_accuracy: 0.3956\n",
            "Epoch 116/150\n",
            "2/2 [==============================] - 0s 211ms/step - loss: 0.8717 - accuracy: 0.5322 - val_loss: 0.8846 - val_accuracy: 0.3956\n",
            "Epoch 117/150\n",
            "2/2 [==============================] - 0s 215ms/step - loss: 0.8773 - accuracy: 0.5122 - val_loss: 0.8857 - val_accuracy: 0.3956\n",
            "Epoch 118/150\n",
            "2/2 [==============================] - 0s 194ms/step - loss: 0.8707 - accuracy: 0.5455 - val_loss: 0.8864 - val_accuracy: 0.3956\n",
            "Epoch 119/150\n",
            "2/2 [==============================] - 0s 209ms/step - loss: 0.8628 - accuracy: 0.5322 - val_loss: 0.8876 - val_accuracy: 0.3956\n",
            "Epoch 120/150\n",
            "2/2 [==============================] - 0s 209ms/step - loss: 0.8771 - accuracy: 0.5078 - val_loss: 0.8871 - val_accuracy: 0.3956\n",
            "Epoch 121/150\n",
            "2/2 [==============================] - 0s 250ms/step - loss: 0.8767 - accuracy: 0.5011 - val_loss: 0.8861 - val_accuracy: 0.3956\n",
            "Epoch 122/150\n",
            "2/2 [==============================] - 0s 212ms/step - loss: 0.8754 - accuracy: 0.5277 - val_loss: 0.8854 - val_accuracy: 0.3956\n",
            "Epoch 123/150\n",
            "2/2 [==============================] - 0s 217ms/step - loss: 0.8812 - accuracy: 0.5100 - val_loss: 0.8844 - val_accuracy: 0.3956\n",
            "Epoch 124/150\n",
            "2/2 [==============================] - 1s 361ms/step - loss: 0.8767 - accuracy: 0.5344 - val_loss: 0.8846 - val_accuracy: 0.3956\n",
            "Epoch 125/150\n",
            "2/2 [==============================] - 1s 345ms/step - loss: 0.8777 - accuracy: 0.5078 - val_loss: 0.8841 - val_accuracy: 0.3956\n",
            "Epoch 126/150\n",
            "2/2 [==============================] - 1s 347ms/step - loss: 0.8849 - accuracy: 0.4922 - val_loss: 0.8831 - val_accuracy: 0.3956\n",
            "Epoch 127/150\n",
            "2/2 [==============================] - 1s 370ms/step - loss: 0.8724 - accuracy: 0.5322 - val_loss: 0.8825 - val_accuracy: 0.3956\n",
            "Epoch 128/150\n",
            "2/2 [==============================] - 1s 366ms/step - loss: 0.8786 - accuracy: 0.5455 - val_loss: 0.8827 - val_accuracy: 0.3956\n",
            "Epoch 129/150\n",
            "2/2 [==============================] - 1s 360ms/step - loss: 0.8766 - accuracy: 0.5166 - val_loss: 0.8831 - val_accuracy: 0.3956\n",
            "Epoch 130/150\n",
            "2/2 [==============================] - 1s 341ms/step - loss: 0.8734 - accuracy: 0.5255 - val_loss: 0.8833 - val_accuracy: 0.3956\n",
            "Epoch 131/150\n",
            "2/2 [==============================] - 0s 212ms/step - loss: 0.8694 - accuracy: 0.5322 - val_loss: 0.8841 - val_accuracy: 0.3956\n",
            "Epoch 132/150\n",
            "2/2 [==============================] - 0s 240ms/step - loss: 0.8757 - accuracy: 0.5233 - val_loss: 0.8844 - val_accuracy: 0.3956\n",
            "Epoch 133/150\n",
            "2/2 [==============================] - 0s 225ms/step - loss: 0.8735 - accuracy: 0.5255 - val_loss: 0.8848 - val_accuracy: 0.3956\n",
            "Epoch 134/150\n",
            "2/2 [==============================] - 0s 223ms/step - loss: 0.8797 - accuracy: 0.5011 - val_loss: 0.8838 - val_accuracy: 0.3956\n",
            "Epoch 135/150\n",
            "2/2 [==============================] - 0s 216ms/step - loss: 0.8683 - accuracy: 0.5344 - val_loss: 0.8838 - val_accuracy: 0.3956\n",
            "Epoch 136/150\n",
            "2/2 [==============================] - 0s 229ms/step - loss: 0.8680 - accuracy: 0.4922 - val_loss: 0.8840 - val_accuracy: 0.3956\n",
            "Epoch 137/150\n",
            "2/2 [==============================] - 0s 244ms/step - loss: 0.8699 - accuracy: 0.5100 - val_loss: 0.8828 - val_accuracy: 0.3956\n",
            "Epoch 138/150\n",
            "2/2 [==============================] - 0s 250ms/step - loss: 0.8815 - accuracy: 0.5011 - val_loss: 0.8819 - val_accuracy: 0.3956\n",
            "Epoch 139/150\n",
            "2/2 [==============================] - 0s 227ms/step - loss: 0.8768 - accuracy: 0.5033 - val_loss: 0.8813 - val_accuracy: 0.3956\n",
            "Epoch 140/150\n",
            "2/2 [==============================] - 0s 233ms/step - loss: 0.8780 - accuracy: 0.5122 - val_loss: 0.8812 - val_accuracy: 0.3956\n",
            "Epoch 141/150\n",
            "2/2 [==============================] - 0s 243ms/step - loss: 0.8759 - accuracy: 0.5188 - val_loss: 0.8813 - val_accuracy: 0.3956\n",
            "Epoch 142/150\n",
            "2/2 [==============================] - 0s 249ms/step - loss: 0.8779 - accuracy: 0.5011 - val_loss: 0.8817 - val_accuracy: 0.3956\n",
            "Epoch 143/150\n",
            "2/2 [==============================] - 0s 223ms/step - loss: 0.8745 - accuracy: 0.5255 - val_loss: 0.8817 - val_accuracy: 0.3956\n",
            "Epoch 144/150\n",
            "2/2 [==============================] - 0s 215ms/step - loss: 0.8709 - accuracy: 0.5188 - val_loss: 0.8829 - val_accuracy: 0.3956\n",
            "Epoch 145/150\n",
            "2/2 [==============================] - 0s 231ms/step - loss: 0.8709 - accuracy: 0.5233 - val_loss: 0.8839 - val_accuracy: 0.3956\n",
            "Epoch 146/150\n",
            "2/2 [==============================] - 0s 212ms/step - loss: 0.8694 - accuracy: 0.5322 - val_loss: 0.8841 - val_accuracy: 0.3956\n",
            "Epoch 147/150\n",
            "2/2 [==============================] - 0s 207ms/step - loss: 0.8682 - accuracy: 0.5299 - val_loss: 0.8847 - val_accuracy: 0.3956\n",
            "Epoch 148/150\n",
            "2/2 [==============================] - 0s 222ms/step - loss: 0.8701 - accuracy: 0.5344 - val_loss: 0.8851 - val_accuracy: 0.3956\n",
            "Epoch 149/150\n",
            "2/2 [==============================] - 0s 208ms/step - loss: 0.8663 - accuracy: 0.4967 - val_loss: 0.8843 - val_accuracy: 0.3956\n",
            "Epoch 150/150\n",
            "2/2 [==============================] - 0s 247ms/step - loss: 0.8737 - accuracy: 0.5188 - val_loss: 0.8832 - val_accuracy: 0.3956\n"
          ]
        }
      ],
      "source": [
        "# Train the model\n",
        "history4 = model.fit(train_x, train_y, epochs=150, validation_data=(test_x, test_y), batch_size=256)"
      ]
    },
    {
      "cell_type": "code",
      "execution_count": 34,
      "metadata": {
        "colab": {
          "base_uri": "https://localhost:8080/"
        },
        "id": "hK2FEhWfMsfs",
        "outputId": "864c1c49-32df-4461-cb7f-24e6f2e71577"
      },
      "outputs": [
        {
          "output_type": "stream",
          "name": "stdout",
          "text": [
            "3/3 [==============================] - 0s 14ms/step - loss: 0.8832 - accuracy: 0.3956\n",
            "Test loss: 0.8831745982170105\n"
          ]
        }
      ],
      "source": [
        "# Evaluate the model on the test dataset\n",
        "test_loss4, test_acc4 = model.evaluate(test_x, test_y)\n",
        "print('Test loss:', test_loss4)"
      ]
    },
    {
      "cell_type": "code",
      "execution_count": 35,
      "metadata": {
        "colab": {
          "base_uri": "https://localhost:8080/",
          "height": 472
        },
        "outputId": "c430cee4-87ad-4def-d377-36787ddb5dae",
        "id": "5N115NQYMsfs"
      },
      "outputs": [
        {
          "output_type": "display_data",
          "data": {
            "text/plain": [
              "<Figure size 640x480 with 1 Axes>"
            ],
            "image/png": "[encoded data removed]"
          },
          "metadata": {}
        }
      ],
      "source": [
        "# Plot the validation and test loss for each epoch\n",
        "plt.plot(history4.history['loss'])\n",
        "plt.plot(history4.history['val_loss'])\n",
        "plt.title('Model loss')\n",
        "plt.ylabel('Loss')\n",
        "plt.xlabel('Epoch')\n",
        "plt.legend(['Train', 'Validation'], loc='upper right')\n",
        "plt.show()"
      ]
    },
    {
      "cell_type": "code",
      "execution_count": 36,
      "metadata": {
        "colab": {
          "base_uri": "https://localhost:8080/"
        },
        "id": "ImVe8bbfMsft",
        "outputId": "34d6f3b7-ea71-4f2b-b4a6-b76c4d8c0535"
      },
      "outputs": [
        {
          "output_type": "stream",
          "name": "stdout",
          "text": [
            "Best gru model is: 1\n"
          ]
        }
      ],
      "source": [
        "print(\"Best gru model is:\", np.argmax([test_acc1, test_acc2, test_acc3, test_acc4]))"
      ]
    },
    {
      "cell_type": "code",
      "execution_count": 37,
      "metadata": {
        "id": "wO4rTry1wGxp"
      },
      "outputs": [],
      "source": [
        "model.save('nikil_gru.h5')"
      ]
    },
    {
      "cell_type": "markdown",
      "metadata": {
        "id": "S9mItdXHMChp"
      },
      "source": [
        " **TEST SCRIPT**"
      ]
    },
    {
      "cell_type": "code",
      "execution_count": 40,
      "metadata": {
        "colab": {
          "base_uri": "https://localhost:8080/"
        },
        "id": "GGW0PGGeMsft",
        "outputId": "ac19dfe2-c6c0-4a27-9695-92b5afbf76f5"
      },
      "outputs": [
        {
          "output_type": "stream",
          "name": "stdout",
          "text": [
            "Drive already mounted at /content/drive; to attempt to forcibly remount, call drive.mount(\"/content/drive\", force_remount=True).\n"
          ]
        }
      ],
      "source": []
    },
    {
      "cell_type": "code",
      "execution_count": 43,
      "metadata": {
        "colab": {
          "base_uri": "https://localhost:8080/"
        },
        "id": "rFWzeB9EnYHU",
        "outputId": "d695cfef-21fc-47dc-ff57-d9c36b40fb30"
      },
      "outputs": [
        {
          "output_type": "stream",
          "name": "stdout",
          "text": [
            "Drive already mounted at /content/drive; to attempt to forcibly remount, call drive.mount(\"/content/drive\", force_remount=True).\n",
            "sub01  sub02  sub03  sub05\n",
            "106\n",
            "1/1 [==============================] - 1s 767ms/step - loss: 0.7538 - accuracy: 0.3529\n",
            "[0.7538009881973267, 0.3529411852359772]\n"
          ]
        }
      ],
      "source": [
        "import pandas as pd \n",
        "import glob\n",
        "import os\n",
        "from sklearn.utils import shuffle\n",
        "from sklearn.model_selection import train_test_split\n",
        "from sklearn.preprocessing import MinMaxScaler\n",
        "\n",
        "from google.colab import drive\n",
        "drive.mount('/content/drive')\n",
        "\n",
        "data_dir = '/content/drive/MyDrive/test-1/test'\n",
        "\n",
        "!ls \"$data_dir\"\n",
        "!find \"$data_dir\" -name '*.csv' -type f| wc -l\n",
        "\n",
        "csv_files =  glob.glob(data_dir + \"/**/*.csv\")\n",
        "combined_csv = []\n",
        "train_y = []\n",
        "for f in csv_files:\n",
        "    df = pd.read_csv(f, header=None)\n",
        "    \n",
        "    df = df[df != '#']\n",
        "    df = df[df != '--1']\n",
        "    if len(df)!=31 or pd.isnull(df.iloc[0, 4]):\n",
        "        continue\n",
        "    combined_csv.append(df.iloc[:, 0:3])\n",
        "    train_y.append(df.iloc[0, 4])\n",
        "\n",
        "train_x = pd.concat([df for df in combined_csv], ignore_index=True).astype(np.float32)\n",
        "train_y = np.array(train_y)\n",
        "\n",
        "scaler = MinMaxScaler()\n",
        "train_x = scaler.fit_transform(train_x)\n",
        "\n",
        "from keras.utils import to_categorical\n",
        "\n",
        "train_x = train_x.reshape(-1, 31, 3)\n",
        "\n",
        "# Convert output to one-hot encoding\n",
        "train_y = to_categorical(train_y, num_classes=3)\n",
        "\n",
        "train_x = train_x[:int(len(train_x)/100*80)]\n",
        "train_y = train_y[:int(len(train_y)/100*80)]\n",
        "test_x = train_x[int(len(train_x)/100*80):]\n",
        "test_y = train_y[int(len(train_y)/100*80):]\n",
        "\n",
        "\n",
        "model = tf.keras.models.load_model('nikil_gru.h5')\n",
        "\n",
        "test_loss = model.evaluate(test_x, test_y)\n",
        "print(test_loss)"
      ]
    },
    {
      "cell_type": "code",
      "execution_count": null,
      "metadata": {
        "id": "hVZmZxbg6abh"
      },
      "outputs": [],
      "source": []
    }
  ],
  "metadata": {
    "colab": {
      "provenance": []
    },
    "kernelspec": {
      "display_name": "Python 3 (ipykernel)",
      "language": "python",
      "name": "python3"
    },
    "language_info": {
      "codemirror_mode": {
        "name": "ipython",
        "version": 3
      },
      "file_extension": ".py",
      "mimetype": "text/x-python",
      "name": "python",
      "nbconvert_exporter": "python",
      "pygments_lexer": "ipython3",
      "version": "3.8.10"
    }
  },
  "nbformat": 4,
  "nbformat_minor": 0
}